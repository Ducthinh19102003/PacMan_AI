{
 "cells": [
  {
   "cell_type": "code",
   "execution_count": 10,
   "metadata": {},
   "outputs": [
    {
     "name": "stdout",
     "output_type": "stream",
     "text": [
      "(6, 2, 2)\n",
      "(6, 2, 2)\n",
      "(6, 2, 2)\n",
      "(6, 2, 2)\n",
      "(6, 2, 2)\n",
      "(6, 2, 2)\n",
      "(6, 2, 2)\n",
      "(6, 2, 2)\n"
     ]
    }
   ],
   "source": [
    "from ReplayBuffer import CNNReplayBuffer\n",
    "import numpy as np\n",
    "buffer = CNNReplayBuffer(1000, 3)\n",
    "\n",
    "for i in range(10):\n",
    "    state = np.random.rand(2,2,2)\n",
    "    action = np.random.randint(1, 11)\n",
    "    reward = np.random.randint(1, 11)\n",
    "    next_state = np.random.rand(2,2,2)\n",
    "    done = np.random.randint(0, 3)\n",
    "    if done == 0:\n",
    "        done = False\n",
    "    else:\n",
    "        done = True\n",
    "    buffer.push(state, action, reward, next_state, done)\n",
    "state = np.random.rand(2,2,2)\n",
    "print(buffer.get_q_input(state).shape)"
   ]
  },
  {
   "cell_type": "code",
   "execution_count": 13,
   "metadata": {},
   "outputs": [
    {
     "name": "stdout",
     "output_type": "stream",
     "text": [
      "[[[0.771953   0.10816357]\n",
      "  [0.22419262 0.59198888]]\n",
      "\n",
      " [[0.76528243 0.09581458]\n",
      "  [0.87635932 0.0404973 ]]\n",
      "\n",
      " [[0.25509668 0.90899924]\n",
      "  [0.96074099 0.57964782]]\n",
      "\n",
      " [[0.97142116 0.26682351]\n",
      "  [0.65161911 0.05477979]]\n",
      "\n",
      " [[0.771953   0.10816357]\n",
      "  [0.22419262 0.59198888]]\n",
      "\n",
      " [[0.76528243 0.09581458]\n",
      "  [0.87635932 0.0404973 ]]]\n"
     ]
    }
   ],
   "source": [
    "sample = buffer.pop(2)\n",
    "print(sample[0].state, sample[1].state)"
   ]
  }
 ],
 "metadata": {
  "kernelspec": {
   "display_name": "21thinh.dd",
   "language": "python",
   "name": "python3"
  },
  "language_info": {
   "codemirror_mode": {
    "name": "ipython",
    "version": 3
   },
   "file_extension": ".py",
   "mimetype": "text/x-python",
   "name": "python",
   "nbconvert_exporter": "python",
   "pygments_lexer": "ipython3",
   "version": "3.8.16"
  },
  "orig_nbformat": 4
 },
 "nbformat": 4,
 "nbformat_minor": 2
}
